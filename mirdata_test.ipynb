{
 "cells": [
  {
   "cell_type": "code",
   "execution_count": 1,
   "metadata": {},
   "outputs": [
    {
     "name": "stdout",
     "output_type": "stream",
     "text": [
      "['acousticbrainz_genre', 'beatles', 'beatport_key', 'billboard', 'cante100', 'compmusic_jingju_acappella', 'compmusic_otmm_makam', 'da_tacos', 'dagstuhl_choirset', 'dali', 'filosax', 'freesound_one_shot_percussive_sounds', 'giantsteps_key', 'giantsteps_tempo', 'good_sounds', 'groove_midi', 'gtzan_genre', 'guitarset', 'haydn_op20', 'ikala', 'irmas', 'maestro', 'medley_solos_db', 'medleydb_melody', 'medleydb_pitch', 'mridangam_stroke', 'mtg_jamendo_autotagging_moodtheme', 'orchset', 'phenicx_anechoic', 'queen', 'rwc_classical', 'rwc_jazz', 'rwc_popular', 'salami', 'saraga_carnatic', 'saraga_hindustani', 'slakh', 'tinysol', 'tonality_classicaldb', 'tonas']\n"
     ]
    }
   ],
   "source": [
    "import mirdata\n",
    "print(mirdata.list_datasets())"
   ]
  },
  {
   "cell_type": "code",
   "execution_count": 2,
   "metadata": {},
   "outputs": [
    {
     "name": "stdout",
     "output_type": "stream",
     "text": [
      "Sanity check - Filosax init\n"
     ]
    }
   ],
   "source": [
    "filosax = mirdata.initialize('filosax')\n",
    "#orchset = mirdata.initialize('orchset')"
   ]
  },
  {
   "cell_type": "code",
   "execution_count": 3,
   "metadata": {},
   "outputs": [
    {
     "name": "stdout",
     "output_type": "stream",
     "text": [
      "['multitrack_01_sax_1', 'multitrack_01_sax_2', 'multitrack_01_bass_drums', 'multitrack_01_piano_drums', 'multitrack_02_sax_1', 'multitrack_02_sax_2', 'multitrack_02_bass_drums', 'multitrack_02_piano_drums']\n",
      "Track ID = multitrack_01_sax_1\n",
      "Track ID = multitrack_01_sax_2\n",
      "Track ID = multitrack_01_bass_drums\n",
      "Track ID = multitrack_01_piano_drums\n",
      "Track ID = multitrack_02_sax_1\n",
      "Track ID = multitrack_02_sax_2\n",
      "Track ID = multitrack_02_bass_drums\n",
      "Track ID = multitrack_02_piano_drums\n",
      "/Users/davefoster/mir_datasets/Filosax/Participant 1/01/Sax.wav\n",
      "/Users/davefoster/mir_datasets/Filosax/Participant 1/01/annotations.json\n",
      "Test Attribute\n"
     ]
    }
   ],
   "source": [
    "#random_track = filosax.choice_track()\n",
    "#print(random_track)\n",
    "filosax_ids = filosax.track_ids\n",
    "print(filosax_ids)\n",
    "filosax_data = filosax.load_tracks()\n",
    "example_track = filosax_data[filosax_ids[0]]\n",
    "print(example_track.audio_path)\n",
    "print(example_track.annotation_path)\n",
    "print(example_track.test_attribute)\n",
    "#for key, track in filosax_data.items():\n",
    "#    print(key, track.audio_path)"
   ]
  },
  {
   "cell_type": "code",
   "execution_count": 4,
   "metadata": {},
   "outputs": [
    {
     "name": "stdout",
     "output_type": "stream",
     "text": [
      "Track Audio\n",
      "Load audio\n"
     ]
    },
    {
     "ename": "NameError",
     "evalue": "name 'audio_path' is not defined",
     "output_type": "error",
     "traceback": [
      "\u001b[0;31m---------------------------------------------------------------------------\u001b[0m",
      "\u001b[0;31mNameError\u001b[0m                                 Traceback (most recent call last)",
      "\u001b[0;32m/var/folders/35/3qtz812x07dfpqw9csr2trv00000gn/T/ipykernel_11233/3042787812.py\u001b[0m in \u001b[0;36m<module>\u001b[0;34m\u001b[0m\n\u001b[1;32m      1\u001b[0m \u001b[0;31m# This doesn't work - is it because I commented out @io.coerce_to_bytes_io ???\u001b[0m\u001b[0;34m\u001b[0m\u001b[0;34m\u001b[0m\u001b[0;34m\u001b[0m\u001b[0m\n\u001b[1;32m      2\u001b[0m \u001b[0;34m\u001b[0m\u001b[0m\n\u001b[0;32m----> 3\u001b[0;31m \u001b[0maudio_data\u001b[0m \u001b[0;34m=\u001b[0m \u001b[0mexample_track\u001b[0m\u001b[0;34m.\u001b[0m\u001b[0maudio\u001b[0m\u001b[0;34m\u001b[0m\u001b[0;34m\u001b[0m\u001b[0m\n\u001b[0m",
      "\u001b[0;32m~/Dropbox/PhD/Jazz Sax Database/mirdata/mirdata/datasets/filosax.py\u001b[0m in \u001b[0;36maudio\u001b[0;34m(self)\u001b[0m\n\u001b[1;32m    204\u001b[0m         \"\"\"\n\u001b[1;32m    205\u001b[0m         \u001b[0mprint\u001b[0m\u001b[0;34m(\u001b[0m\u001b[0;34m\"Track Audio\"\u001b[0m\u001b[0;34m)\u001b[0m\u001b[0;34m\u001b[0m\u001b[0;34m\u001b[0m\u001b[0m\n\u001b[0;32m--> 206\u001b[0;31m         \u001b[0;32mreturn\u001b[0m \u001b[0mload_audio\u001b[0m\u001b[0;34m(\u001b[0m\u001b[0mself\u001b[0m\u001b[0;34m.\u001b[0m\u001b[0maudio_path\u001b[0m\u001b[0;34m)\u001b[0m\u001b[0;34m\u001b[0m\u001b[0;34m\u001b[0m\u001b[0m\n\u001b[0m\u001b[1;32m    207\u001b[0m \u001b[0;34m\u001b[0m\u001b[0m\n\u001b[1;32m    208\u001b[0m     \u001b[0;34m@\u001b[0m\u001b[0mproperty\u001b[0m\u001b[0;34m\u001b[0m\u001b[0;34m\u001b[0m\u001b[0m\n",
      "\u001b[0;32m~/Dropbox/PhD/Jazz Sax Database/mirdata/mirdata/io.py\u001b[0m in \u001b[0;36mwrapper\u001b[0;34m(file_path_or_obj)\u001b[0m\n\u001b[1;32m     43\u001b[0m         \u001b[0;32mif\u001b[0m \u001b[0misinstance\u001b[0m\u001b[0;34m(\u001b[0m\u001b[0mfile_path_or_obj\u001b[0m\u001b[0;34m,\u001b[0m \u001b[0mstr\u001b[0m\u001b[0;34m)\u001b[0m\u001b[0;34m:\u001b[0m\u001b[0;34m\u001b[0m\u001b[0;34m\u001b[0m\u001b[0m\n\u001b[1;32m     44\u001b[0m             \u001b[0;32mwith\u001b[0m \u001b[0mopen\u001b[0m\u001b[0;34m(\u001b[0m\u001b[0mfile_path_or_obj\u001b[0m\u001b[0;34m,\u001b[0m \u001b[0;34m\"rb\"\u001b[0m\u001b[0;34m)\u001b[0m \u001b[0;32mas\u001b[0m \u001b[0mf\u001b[0m\u001b[0;34m:\u001b[0m\u001b[0;34m\u001b[0m\u001b[0;34m\u001b[0m\u001b[0m\n\u001b[0;32m---> 45\u001b[0;31m                 \u001b[0;32mreturn\u001b[0m \u001b[0mfunc\u001b[0m\u001b[0;34m(\u001b[0m\u001b[0mf\u001b[0m\u001b[0;34m)\u001b[0m\u001b[0;34m\u001b[0m\u001b[0;34m\u001b[0m\u001b[0m\n\u001b[0m\u001b[1;32m     46\u001b[0m         \u001b[0;32melif\u001b[0m \u001b[0misinstance\u001b[0m\u001b[0;34m(\u001b[0m\u001b[0mfile_path_or_obj\u001b[0m\u001b[0;34m,\u001b[0m \u001b[0mio\u001b[0m\u001b[0;34m.\u001b[0m\u001b[0mBytesIO\u001b[0m\u001b[0;34m)\u001b[0m\u001b[0;34m:\u001b[0m\u001b[0;34m\u001b[0m\u001b[0;34m\u001b[0m\u001b[0m\n\u001b[1;32m     47\u001b[0m             \u001b[0;32mreturn\u001b[0m \u001b[0mfunc\u001b[0m\u001b[0;34m(\u001b[0m\u001b[0mfile_path_or_obj\u001b[0m\u001b[0;34m)\u001b[0m\u001b[0;34m\u001b[0m\u001b[0;34m\u001b[0m\u001b[0m\n",
      "\u001b[0;32m~/Dropbox/PhD/Jazz Sax Database/mirdata/mirdata/datasets/filosax.py\u001b[0m in \u001b[0;36mload_audio\u001b[0;34m(fhandle)\u001b[0m\n\u001b[1;32m    370\u001b[0m     \"\"\"\n\u001b[1;32m    371\u001b[0m     \u001b[0mprint\u001b[0m\u001b[0;34m(\u001b[0m\u001b[0;34m\"Load audio\"\u001b[0m\u001b[0;34m)\u001b[0m\u001b[0;34m\u001b[0m\u001b[0;34m\u001b[0m\u001b[0m\n\u001b[0;32m--> 372\u001b[0;31m     \u001b[0mprint\u001b[0m\u001b[0;34m(\u001b[0m\u001b[0maudio_path\u001b[0m\u001b[0;34m)\u001b[0m\u001b[0;34m\u001b[0m\u001b[0;34m\u001b[0m\u001b[0m\n\u001b[0m\u001b[1;32m    373\u001b[0m     \u001b[0;32mreturn\u001b[0m \u001b[0mlibrosa\u001b[0m\u001b[0;34m.\u001b[0m\u001b[0mload\u001b[0m\u001b[0;34m(\u001b[0m\u001b[0maudio_path\u001b[0m\u001b[0;34m,\u001b[0m \u001b[0msr\u001b[0m\u001b[0;34m=\u001b[0m\u001b[0;32mNone\u001b[0m\u001b[0;34m,\u001b[0m \u001b[0mmono\u001b[0m\u001b[0;34m=\u001b[0m\u001b[0;32mTrue\u001b[0m\u001b[0;34m)\u001b[0m\u001b[0;34m\u001b[0m\u001b[0;34m\u001b[0m\u001b[0m\n\u001b[1;32m    374\u001b[0m \u001b[0;34m\u001b[0m\u001b[0m\n",
      "\u001b[0;31mNameError\u001b[0m: name 'audio_path' is not defined"
     ]
    }
   ],
   "source": [
    "# This doesn't work - is it because I commented out @io.coerce_to_bytes_io ???\n",
    "\n",
    "audio_data = example_track.audio"
   ]
  },
  {
   "cell_type": "code",
   "execution_count": 5,
   "metadata": {},
   "outputs": [
    {
     "name": "stdout",
     "output_type": "stream",
     "text": [
      "['multitrack_01', 'multitrack_02']\n",
      "All The Things You Are\n",
      "337.3778684807256\n",
      "Observation(time=0.0, duration=1.0, value=1, confidence=None)\n",
      "Observation(time=1.0, duration=1.6724480000000002, value='C#:7(b9)', confidence=None)\n",
      "Observation(time=1.0, duration=13.046292, value='improvised solo', confidence=None)\n"
     ]
    }
   ],
   "source": [
    "multi_ids = filosax.mtrack_ids\n",
    "print(multi_ids)\n",
    "example_mtrack = filosax.multitrack(multi_ids[0])\n",
    "#print(example_mtrack.annotation_path)\n",
    "print(example_mtrack.name)\n",
    "print(example_mtrack.duration)\n",
    "print(example_mtrack.beats[0])\n",
    "print(example_mtrack.chords[0])\n",
    "print(example_mtrack.segments[0])"
   ]
  },
  {
   "cell_type": "code",
   "execution_count": null,
   "metadata": {},
   "outputs": [],
   "source": []
  }
 ],
 "metadata": {
  "interpreter": {
   "hash": "ca61ff5485b2aebd8102a7a55df79cef376d77878c78210206ba1299f695a5b1"
  },
  "kernelspec": {
   "display_name": "Python 3.7.11 64-bit ('mirdata': conda)",
   "name": "python3"
  },
  "language_info": {
   "codemirror_mode": {
    "name": "ipython",
    "version": 3
   },
   "file_extension": ".py",
   "mimetype": "text/x-python",
   "name": "python",
   "nbconvert_exporter": "python",
   "pygments_lexer": "ipython3",
   "version": "3.7.11"
  },
  "orig_nbformat": 4
 },
 "nbformat": 4,
 "nbformat_minor": 2
}
