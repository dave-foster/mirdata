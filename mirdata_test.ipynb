{
 "cells": [
  {
   "cell_type": "code",
   "execution_count": 1,
   "metadata": {},
   "outputs": [
    {
     "name": "stdout",
     "output_type": "stream",
     "text": [
      "['acousticbrainz_genre', 'beatles', 'beatport_key', 'billboard', 'cante100', 'compmusic_jingju_acappella', 'compmusic_otmm_makam', 'da_tacos', 'dagstuhl_choirset', 'dali', 'filosax', 'freesound_one_shot_percussive_sounds', 'giantsteps_key', 'giantsteps_tempo', 'good_sounds', 'groove_midi', 'gtzan_genre', 'guitarset', 'haydn_op20', 'ikala', 'irmas', 'maestro', 'medley_solos_db', 'medleydb_melody', 'medleydb_pitch', 'mridangam_stroke', 'mtg_jamendo_autotagging_moodtheme', 'orchset', 'phenicx_anechoic', 'queen', 'rwc_classical', 'rwc_jazz', 'rwc_popular', 'salami', 'saraga_carnatic', 'saraga_hindustani', 'slakh', 'tinysol', 'tonality_classicaldb', 'tonas']\n"
     ]
    }
   ],
   "source": [
    "import mirdata\n",
    "print(mirdata.list_datasets())"
   ]
  },
  {
   "cell_type": "code",
   "execution_count": 3,
   "metadata": {},
   "outputs": [
    {
     "name": "stderr",
     "output_type": "stream",
     "text": [
      "100%|██████████| 8/8 [00:00<00:00, 11.45it/s]\n",
      "100%|██████████| 2/2 [00:00<00:00, 729.13it/s]\n",
      "INFO: Success: the dataset is complete and all files are valid.\n",
      "INFO: --------------------\n"
     ]
    },
    {
     "data": {
      "text/plain": [
       "({'tracks': {}, 'multitracks': {}}, {'tracks': {}, 'multitracks': {}})"
      ]
     },
     "execution_count": 3,
     "metadata": {},
     "output_type": "execute_result"
    }
   ],
   "source": [
    "filosax = mirdata.initialize('filosax')\n",
    "filosax.validate()"
   ]
  },
  {
   "cell_type": "code",
   "execution_count": 4,
   "metadata": {},
   "outputs": [
    {
     "name": "stdout",
     "output_type": "stream",
     "text": [
      "['multitrack_01_sax_1', 'multitrack_01_sax_2', 'multitrack_01_bass_drums', 'multitrack_01_piano_drums', 'multitrack_02_sax_1', 'multitrack_02_sax_2', 'multitrack_02_bass_drums', 'multitrack_02_piano_drums']\n",
      "/Users/davefoster/mir_datasets/Filosax/Participant 2/01/Sax.wav\n",
      "/Users/davefoster/mir_datasets/Filosax/Participant 2/01/annotations.json\n",
      "2.5687910666666665\n"
     ]
    }
   ],
   "source": [
    "#random_track = filosax.choice_track()\n",
    "#print(random_track)\n",
    "filosax_ids = filosax.track_ids\n",
    "print(filosax_ids)\n",
    "filosax_data = filosax.load_tracks()\n",
    "example_track = filosax_data[filosax_ids[1]]\n",
    "print(example_track.audio_path)\n",
    "print(example_track.annotation_path)\n",
    "#print(example_track.notes[0][\"a_start_time\"])\n",
    "print(example_track.notes[0].a_start_time)\n",
    "#for key, track in filosax_data.items():\n",
    "#    print(key, track.audio_path)"
   ]
  },
  {
   "cell_type": "code",
   "execution_count": 6,
   "metadata": {},
   "outputs": [],
   "source": [
    "# This now works!\n",
    "\n",
    "audio_data = example_track.audio"
   ]
  },
  {
   "cell_type": "code",
   "execution_count": 7,
   "metadata": {},
   "outputs": [
    {
     "name": "stdout",
     "output_type": "stream",
     "text": [
      "['multitrack_01', 'multitrack_02']\n",
      "All The Things You Are\n",
      "337.3778684807256\n",
      "Observation(time=0.0, duration=1.0, value=1, confidence=None)\n",
      "Observation(time=1.0, duration=1.6724480000000002, value='C#:7(b9)', confidence=None)\n",
      "Observation(time=1.0, duration=13.046292, value='improvised solo', confidence=None)\n"
     ]
    }
   ],
   "source": [
    "multi_ids = filosax.mtrack_ids\n",
    "print(multi_ids)\n",
    "example_mtrack = filosax.multitrack(multi_ids[0])\n",
    "#print(example_mtrack.annotation_path)\n",
    "print(example_mtrack.name)\n",
    "print(example_mtrack.duration)\n",
    "print(example_mtrack.beats[0])\n",
    "print(example_mtrack.chords[0])\n",
    "print(example_mtrack.segments[0])"
   ]
  },
  {
   "cell_type": "code",
   "execution_count": 9,
   "metadata": {},
   "outputs": [
    {
     "name": "stdout",
     "output_type": "stream",
     "text": [
      "['multitrack_01_sax_1', 'multitrack_01_sax_2', 'multitrack_01_bass_drums', 'multitrack_01_piano_drums']\n",
      "{'0': 'C#:7(b9)'}\n"
     ]
    }
   ],
   "source": [
    "filosax_data = filosax.load_tracks()\n",
    "example_mtrack = filosax.multitrack(multi_ids[0])\n",
    "track_ids = example_mtrack.track_ids\n",
    "print(track_ids)\n",
    "example_track = filosax_data[track_ids[0]]\n",
    "print(example_track.notes[0].chord_changes)"
   ]
  },
  {
   "cell_type": "code",
   "execution_count": null,
   "metadata": {},
   "outputs": [],
   "source": []
  }
 ],
 "metadata": {
  "interpreter": {
   "hash": "ca61ff5485b2aebd8102a7a55df79cef376d77878c78210206ba1299f695a5b1"
  },
  "kernelspec": {
   "display_name": "Python 3.7.11 64-bit ('mirdata': conda)",
   "name": "python3"
  },
  "language_info": {
   "codemirror_mode": {
    "name": "ipython",
    "version": 3
   },
   "file_extension": ".py",
   "mimetype": "text/x-python",
   "name": "python",
   "nbconvert_exporter": "python",
   "pygments_lexer": "ipython3",
   "version": "3.7.11"
  },
  "orig_nbformat": 4
 },
 "nbformat": 4,
 "nbformat_minor": 2
}
